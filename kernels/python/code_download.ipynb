{
 "cells": [
  {
   "cell_type": "code",
   "execution_count": 1,
   "metadata": {},
   "outputs": [],
   "source": [
    "import csv\n",
    "import pandas as pd\n",
    "import urllib"
   ]
  },
  {
   "cell_type": "code",
   "execution_count": 2,
   "metadata": {},
   "outputs": [],
   "source": [
    "lore_url = 'https://vectorization.computer/AJAX/get_src.php'"
   ]
  },
  {
   "cell_type": "code",
   "execution_count": 3,
   "metadata": {
    "scrolled": true
   },
   "outputs": [],
   "source": [
    "x = pd.read_csv('lore1.csv')\n",
    "x.rename({'function': 'func'}, axis='columns', inplace=True)\n",
    "pass"
   ]
  },
  {
   "cell_type": "code",
   "execution_count": 4,
   "metadata": {},
   "outputs": [],
   "source": [
    "rows = x.to_dict(orient='records')"
   ]
  },
  {
   "cell_type": "code",
   "execution_count": 11,
   "metadata": {},
   "outputs": [],
   "source": [
    "row = rows[0]\n",
    "data = urllib.parse.urlencode(row)\n",
    "\n",
    "res = urllib.request.urlopen(lore_url + '?' + data)\n",
    "code = res.read()\n",
    "\n",
    "with open('code.c', 'w') as fout:\n",
    "    fout.write(code.decode('utf-8'))"
   ]
  },
  {
   "cell_type": "code",
   "execution_count": 7,
   "metadata": {},
   "outputs": [
    {
     "data": {
      "text/plain": [
       "b'#include <inttypes.h>\\n#include <stdio.h>\\n#include <stdlib.h>\\ntypedef int I32;\\nextern I32 Class;\\nextern char * restrict opnd;\\nextern const unsigned char* restrict Perl_fold;\\n\\nvoid loop()\\n{\\n#pragma scop\\n\\n    for(Class = 0; Class < 256; ++Class)\\n    {\\n        if(opnd[1 +(Class >> 3 & 31)] & 1 <<(Class & 7))\\n        {\\n            I32 cf = Perl_fold[Class];\\n            opnd[1 +(cf >> 3 & 31)] |= 1 <<(cf & 7);\\n        }\\n    }\\n\\n#pragma endscop\\n}\\n'"
      ]
     },
     "execution_count": 7,
     "metadata": {},
     "output_type": "execute_result"
    }
   ],
   "source": [
    "code"
   ]
  },
  {
   "cell_type": "code",
   "execution_count": 8,
   "metadata": {},
   "outputs": [
    {
     "data": {
      "text/plain": [
       "{'application': '253.perlbmk',\n",
       " 'benchmark': 'spec2000',\n",
       " 'file': 'regcomp.c',\n",
       " 'func': 'regclass',\n",
       " 'line': 2073,\n",
       " 'version': 'v1.3'}"
      ]
     },
     "execution_count": 8,
     "metadata": {},
     "output_type": "execute_result"
    }
   ],
   "source": [
    "row"
   ]
  },
  {
   "cell_type": "code",
   "execution_count": null,
   "metadata": {},
   "outputs": [],
   "source": []
  }
 ],
 "metadata": {
  "kernelspec": {
   "display_name": "Python 3",
   "language": "python",
   "name": "python3"
  },
  "language_info": {
   "codemirror_mode": {
    "name": "ipython",
    "version": 3
   },
   "file_extension": ".py",
   "mimetype": "text/x-python",
   "name": "python",
   "nbconvert_exporter": "python",
   "pygments_lexer": "ipython3",
   "version": "3.6.5"
  }
 },
 "nbformat": 4,
 "nbformat_minor": 2
}
