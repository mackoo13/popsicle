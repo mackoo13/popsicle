{
 "cells": [
  {
   "cell_type": "code",
   "execution_count": 1,
   "metadata": {},
   "outputs": [],
   "source": [
    "from pycparser import c_parser, c_ast"
   ]
  },
  {
   "cell_type": "code",
   "execution_count": 2,
   "metadata": {},
   "outputs": [],
   "source": [
    "with open('../kernels_lore/k4/k4.txt', 'r') as fin:\n",
    "    code = fin.read()\n",
    "    parser = c_parser.CParser()\n",
    "    ast = parser.parse(code)"
   ]
  },
  {
   "cell_type": "code",
   "execution_count": 5,
   "metadata": {},
   "outputs": [],
   "source": [
    "ast.ext = [3] + ast.ext"
   ]
  },
  {
   "cell_type": "code",
   "execution_count": 7,
   "metadata": {},
   "outputs": [
    {
     "data": {
      "text/plain": [
       "<pycparser.plyparser.Coord at 0x7fb43c5a9ee8>"
      ]
     },
     "execution_count": 7,
     "metadata": {},
     "output_type": "execute_result"
    }
   ],
   "source": [
    "ast.ext[3].coord."
   ]
  },
  {
   "cell_type": "code",
   "execution_count": 152,
   "metadata": {},
   "outputs": [
    {
     "name": "stdout",
     "output_type": "stream",
     "text": [
      "{'i': {'n'}, 'j': {'n'}}\n",
      "{'i': {'n', '0'}, 'j': {'n', '0'}, 'q': {'n'}}\n",
      "{'A': {'n*n+n'}, 'D': {'n'}}\n"
     ]
    }
   ],
   "source": [
    "def max_set(set):\n",
    "    return set.pop if len(set) == 1 else 'max(' + ','.join(set) + ')'\n",
    "\n",
    "\n",
    "def q(n, maxs={}):\n",
    "    if type(n) is str:\n",
    "        return max_set(maxs[n]) if n in maxs else n\n",
    "    if type(n) is c_ast.ID:\n",
    "        return list(maxs[n.name])[0] if n.name in maxs else n.name\n",
    "    elif type(n) is c_ast.BinaryOp:\n",
    "        return q(n.left, maxs) + n.op + q(n.right, maxs)\n",
    "    elif type(n) is c_ast.Constant:\n",
    "        return n.value\n",
    "    else:\n",
    "        return '42'\n",
    "    \n",
    "    \n",
    "\n",
    "class ArrayRefVisitor(c_ast.NodeVisitor):\n",
    "    def __init__(self, maxs):\n",
    "        self.refs = {}\n",
    "        self.maxs = maxs\n",
    "        \n",
    "    def visit_ArrayRef(self, node):\n",
    "        n = node.name.name\n",
    "        s = node.subscript\n",
    "        \n",
    "        if n in self.refs:\n",
    "            self.refs[n].add(q(s, self.maxs))\n",
    "        else:\n",
    "            self.refs[n] = set([q(s, self.maxs)])\n",
    "            \n",
    "            \n",
    "class AssignmentVisitor(c_ast.NodeVisitor):\n",
    "    def __init__(self, maxs):\n",
    "        self.refs = {}\n",
    "        self.maxs = maxs\n",
    "        \n",
    "    def visit_Assignment(self, node):\n",
    "        if node.op == '=':\n",
    "            l = node.lvalue\n",
    "            r = node.rvalue\n",
    "\n",
    "            if type(l) is c_ast.ID:\n",
    "                if l.name in self.maxs:\n",
    "                    self.maxs[l.name].add(q(r, self.maxs))\n",
    "                else:\n",
    "                    self.maxs[l.name] = set([q(r, self.maxs)])\n",
    "            \n",
    "\n",
    "class ForVisitor(c_ast.NodeVisitor):\n",
    "    def __init__(self):\n",
    "        self.maxs = {}\n",
    "            \n",
    "    def visit_For(self, node):\n",
    "        c = node.cond\n",
    "        if type(c) is not c_ast.BinaryOp:\n",
    "            return\n",
    "        \n",
    "        v = c.left\n",
    "        m = c.right\n",
    "        \n",
    "        if type(v) is not c_ast.ID:\n",
    "            return\n",
    "        \n",
    "        if v.name in self.maxs:\n",
    "            self.maxs[v.name].add(q(m))\n",
    "        else:\n",
    "            self.maxs[v.name] = set([q(m)])\n",
    "            \n",
    "        c_ast.NodeVisitor.generic_visit(self, node)\n",
    "        \n",
    "        \n",
    "cv = ForVisitor()\n",
    "cv.visit(ast)    \n",
    "print(cv.maxs)\n",
    "        \n",
    "cv = AssignmentVisitor(cv.maxs)\n",
    "cv.visit(ast)\n",
    "print(cv.maxs)\n",
    "        \n",
    "cv = ArrayRefVisitor(cv.maxs)\n",
    "cv.visit(ast)\n",
    "print(cv.refs)\n",
    "        "
   ]
  },
  {
   "cell_type": "code",
   "execution_count": 147,
   "metadata": {},
   "outputs": [
    {
     "data": {
      "text/plain": [
       "'q+1'"
      ]
     },
     "execution_count": 147,
     "metadata": {},
     "output_type": "execute_result"
    }
   ],
   "source": [
    "q('q+1', cv.maxs)"
   ]
  },
  {
   "cell_type": "code",
   "execution_count": 125,
   "metadata": {},
   "outputs": [
    {
     "name": "stdout",
     "output_type": "stream",
     "text": [
      "FileAST: \n",
      "  Typedef: long_long, [], ['typedef']\n",
      "    TypeDecl: long_long, []\n",
      "      IdentifierType: ['double']\n",
      "  Decl: i, [], [], []\n",
      "    TypeDecl: i, []\n",
      "      IdentifierType: ['int']\n",
      "  Decl: n, [], [], []\n",
      "    TypeDecl: n, []\n",
      "      IdentifierType: ['int']\n",
      "  Decl: j, [], [], []\n",
      "    TypeDecl: j, []\n",
      "      IdentifierType: ['int']\n",
      "  Decl: q, [], [], []\n",
      "    TypeDecl: q, []\n",
      "      IdentifierType: ['int']\n",
      "  Decl: A, [], [], []\n",
      "    PtrDecl: []\n",
      "      TypeDecl: A, []\n",
      "        IdentifierType: ['double']\n",
      "  Decl: D, [], [], []\n",
      "    PtrDecl: []\n",
      "      TypeDecl: D, []\n",
      "        IdentifierType: ['double']\n",
      "  FuncDef: \n",
      "    Decl: loop, [], [], []\n",
      "      FuncDecl: \n",
      "        ParamList: \n",
      "          Decl: set, [], [], []\n",
      "            TypeDecl: set, []\n",
      "              IdentifierType: ['int']\n",
      "          Decl: values, [], [], []\n",
      "            PtrDecl: []\n",
      "              TypeDecl: values, []\n",
      "                IdentifierType: ['long_long']\n",
      "        TypeDecl: loop, []\n",
      "          IdentifierType: ['int']\n",
      "    Compound: \n",
      "      Pragma: scop\n",
      "      For: \n",
      "        Assignment: =\n",
      "          ID: i\n",
      "          Constant: int, 0\n",
      "        BinaryOp: <\n",
      "          ID: i\n",
      "          ID: n\n",
      "        UnaryOp: p++\n",
      "          ID: i\n",
      "        Compound: \n",
      "          Assignment: =\n",
      "            ID: q\n",
      "            ID: i\n",
      "          For: \n",
      "            Assignment: =\n",
      "              ID: j\n",
      "              Constant: int, 0\n",
      "            BinaryOp: <\n",
      "              ID: j\n",
      "              ID: n\n",
      "            UnaryOp: p++\n",
      "              ID: j\n",
      "            Assignment: =\n",
      "              ArrayRef: \n",
      "                ID: A\n",
      "                BinaryOp: +\n",
      "                  BinaryOp: *\n",
      "                    ID: n\n",
      "                    ID: i\n",
      "                  ID: j\n",
      "              BinaryOp: /\n",
      "                BinaryOp: /\n",
      "                  ArrayRef: \n",
      "                    ID: A\n",
      "                    BinaryOp: +\n",
      "                      BinaryOp: *\n",
      "                        ID: n\n",
      "                        ID: i\n",
      "                      ID: j\n",
      "                  FuncCall: \n",
      "                    ID: sqrt\n",
      "                    ExprList: \n",
      "                      ArrayRef: \n",
      "                        ID: D\n",
      "                        ID: q\n",
      "                FuncCall: \n",
      "                  ID: sqrt\n",
      "                  ExprList: \n",
      "                    ArrayRef: \n",
      "                      ID: D\n",
      "                      ID: j\n",
      "      Pragma: endscop\n"
     ]
    }
   ],
   "source": [
    "ast.show()"
   ]
  },
  {
   "cell_type": "code",
   "execution_count": 150,
   "metadata": {},
   "outputs": [
    {
     "data": {
      "text/plain": [
       "1"
      ]
     },
     "execution_count": 150,
     "metadata": {},
     "output_type": "execute_result"
    }
   ],
   "source": [
    "len(set([3]))"
   ]
  },
  {
   "cell_type": "code",
   "execution_count": null,
   "metadata": {},
   "outputs": [],
   "source": []
  }
 ],
 "metadata": {
  "kernelspec": {
   "display_name": "Python 3",
   "language": "python",
   "name": "python3"
  },
  "language_info": {
   "codemirror_mode": {
    "name": "ipython",
    "version": 3
   },
   "file_extension": ".py",
   "mimetype": "text/x-python",
   "name": "python",
   "nbconvert_exporter": "python",
   "pygments_lexer": "ipython3",
   "version": "3.6.5"
  }
 },
 "nbformat": 4,
 "nbformat_minor": 2
}
