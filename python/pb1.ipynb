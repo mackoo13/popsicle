{
 "cells": [
  {
   "cell_type": "code",
   "execution_count": 4,
   "metadata": {},
   "outputs": [],
   "source": [
    "import re"
   ]
  },
  {
   "cell_type": "code",
   "execution_count": 95,
   "metadata": {},
   "outputs": [],
   "source": [
    "maxN = 20\n",
    "\n",
    "def get_defines(code, dataset):\n",
    "    frag = re.search('ifdef ' + dataset + '_DATASET(.*?)endif', code, re.DOTALL)\n",
    "    if frag:\n",
    "        defines = frag.groups()[0]\n",
    "        names = re.findall('define (\\S*) ', defines)\n",
    "        values = re.findall('define \\S* (.*)\\n', defines)\n",
    "        values = [int(v) for v in values]\n",
    "        return values, names\n",
    "    \n",
    "def scale_vals(imini, imed, maxN):\n",
    "    return int(((imini*(maxN-1-i)) + (imed*i)) / (maxN-1))"
   ]
  },
  {
   "cell_type": "code",
   "execution_count": 101,
   "metadata": {},
   "outputs": [
    {
     "name": "stdout",
     "output_type": "stream",
     "text": [
      "-D NI=16 -D NJ=18 -D NK=22 -D NL=24\n",
      "-D NI=24 -D NJ=27 -D NK=31 -D NL=34\n",
      "-D NI=33 -D NJ=36 -D NK=41 -D NL=44\n",
      "-D NI=41 -D NJ=45 -D NK=51 -D NL=54\n",
      "-D NI=50 -D NJ=54 -D NK=61 -D NL=65\n",
      "-D NI=59 -D NJ=63 -D NK=71 -D NL=75\n",
      "-D NI=67 -D NJ=72 -D NK=81 -D NL=85\n",
      "-D NI=76 -D NJ=81 -D NK=91 -D NL=96\n",
      "-D NI=85 -D NJ=90 -D NK=101 -D NL=106\n",
      "-D NI=93 -D NJ=99 -D NK=111 -D NL=116\n",
      "-D NI=102 -D NJ=108 -D NK=120 -D NL=127\n",
      "-D NI=110 -D NJ=117 -D NK=130 -D NL=137\n",
      "-D NI=119 -D NJ=126 -D NK=140 -D NL=147\n",
      "-D NI=128 -D NJ=135 -D NK=150 -D NL=158\n",
      "-D NI=136 -D NJ=144 -D NK=160 -D NL=168\n",
      "-D NI=145 -D NJ=153 -D NK=170 -D NL=178\n",
      "-D NI=154 -D NJ=162 -D NK=180 -D NL=189\n",
      "-D NI=162 -D NJ=171 -D NK=190 -D NL=199\n",
      "-D NI=171 -D NJ=180 -D NK=200 -D NL=209\n",
      "-D NI=180 -D NJ=190 -D NK=210 -D NL=220\n"
     ]
    }
   ],
   "source": [
    "with open('../kernels_pb/2mm/2mm.h', 'r') as fin:\n",
    "    code = fin.read()\n",
    "    mini, names = get_defines(code, 'MINI')\n",
    "    med, _ = get_defines(code, 'MEDIUM')\n",
    "    \n",
    "    for i in range(maxN):\n",
    "        vals = [scale_vals(imini, imed, maxN) for imini, imed in zip(mini, med)]\n",
    "        opts = ['-D '+n+'='+str(v) for n, v in zip(names, vals)]\n",
    "        print(' '.join(opts))"
   ]
  },
  {
   "cell_type": "code",
   "execution_count": null,
   "metadata": {},
   "outputs": [],
   "source": []
  }
 ],
 "metadata": {
  "kernelspec": {
   "display_name": "Python 3",
   "language": "python",
   "name": "python3"
  },
  "language_info": {
   "codemirror_mode": {
    "name": "ipython",
    "version": 3
   },
   "file_extension": ".py",
   "mimetype": "text/x-python",
   "name": "python",
   "nbconvert_exporter": "python",
   "pygments_lexer": "ipython3",
   "version": "3.6.5"
  }
 },
 "nbformat": 4,
 "nbformat_minor": 2
}
