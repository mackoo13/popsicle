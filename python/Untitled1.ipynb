{
 "cells": [
  {
   "cell_type": "code",
   "execution_count": 2,
   "metadata": {},
   "outputs": [
    {
     "ename": "NameError",
     "evalue": "name 'PAPI_L1_DCM' is not defined",
     "output_type": "error",
     "traceback": [
      "\u001b[0;31m---------------------------------------------------------------------------\u001b[0m",
      "\u001b[0;31mNameError\u001b[0m                                 Traceback (most recent call last)",
      "\u001b[0;32m<ipython-input-2-90ad78a05bf9>\u001b[0m in \u001b[0;36m<module>\u001b[0;34m()\u001b[0m\n\u001b[1;32m      1\u001b[0m codes = [\n\u001b[0;32m----> 2\u001b[0;31m \u001b[0mPAPI_L1_DCM\u001b[0m\u001b[0;34m,\u001b[0m\u001b[0;34m\u001b[0m\u001b[0m\n\u001b[0m\u001b[1;32m      3\u001b[0m \u001b[0mPAPI_L1_ICM\u001b[0m\u001b[0;34m,\u001b[0m\u001b[0;34m\u001b[0m\u001b[0m\n\u001b[1;32m      4\u001b[0m \u001b[0mPAPI_L2_DCM\u001b[0m\u001b[0;34m,\u001b[0m\u001b[0;34m\u001b[0m\u001b[0m\n\u001b[1;32m      5\u001b[0m \u001b[0mPAPI_L2_ICM\u001b[0m\u001b[0;34m,\u001b[0m\u001b[0;34m\u001b[0m\u001b[0m\n",
      "\u001b[0;31mNameError\u001b[0m: name 'PAPI_L1_DCM' is not defined"
     ]
    }
   ],
   "source": []
  },
  {
   "cell_type": "code",
   "execution_count": 1,
   "metadata": {},
   "outputs": [
    {
     "name": "stdout",
     "output_type": "stream",
     "text": [
      "0 -                                      \n",
      "1  -                                     \n",
      "3   -                                    \n",
      "4    -                                   \n",
      "5     -                                  \n",
      "6      -                                 \n",
      "7       -                                \n",
      "8        -                               \n",
      "9         -                              \n",
      "10          -                             \n",
      "11           -                            \n",
      "12            -                           \n",
      "14             -                          \n",
      "15              -                         \n",
      "16               -                        \n",
      "17                -                       \n",
      "18                 -                      \n",
      "19                  -                     \n",
      "21                   -                    \n",
      "22                    -                   \n",
      "23                     -                  \n",
      "24                      -                 \n",
      "25                       -                \n",
      "26                        -               \n",
      "27                         -              \n",
      "28                          -             \n",
      "29                           -            \n",
      "31                            -           \n",
      "33                             -          \n",
      "34                              -         \n",
      "37                               -        \n",
      "38                                -       \n",
      "41                                 -      \n",
      "43                                  -     \n",
      "45                                   -    \n",
      "46                                    -   \n",
      "49                                     -  \n",
      "50                                      - \n",
      "51                                       -\n"
     ]
    }
   ],
   "source": [
    "bad=[2,13,20,30,32,35,36,39,40,42,47,48]\n",
    "bad = bad+[44] #pair with 45\n",
    "#good=[q for q in range(52) if q not in bad]\n",
    "\n",
    "with open('chooser.txt', 'r') as f:\n",
    "    for i, l in enumerate(f):\n",
    "        res=''\n",
    "        for j, c in enumerate(l[:-1]):\n",
    "            if i not in bad and j not in bad:\n",
    "                res+=c\n",
    "        if i not in bad:\n",
    "            print(i, res)"
   ]
  },
  {
   "cell_type": "code",
   "execution_count": 9,
   "metadata": {},
   "outputs": [
    {
     "data": {
      "text/plain": [
       "[0,\n",
       " 1,\n",
       " 3,\n",
       " 4,\n",
       " 5,\n",
       " 6,\n",
       " 7,\n",
       " 8,\n",
       " 9,\n",
       " 10,\n",
       " 11,\n",
       " 12,\n",
       " 14,\n",
       " 15,\n",
       " 16,\n",
       " 17,\n",
       " 18,\n",
       " 19,\n",
       " 21,\n",
       " 22,\n",
       " 23,\n",
       " 24,\n",
       " 25,\n",
       " 26,\n",
       " 27,\n",
       " 28,\n",
       " 29,\n",
       " 31,\n",
       " 33,\n",
       " 34,\n",
       " 37,\n",
       " 38,\n",
       " 41,\n",
       " 43,\n",
       " 44,\n",
       " 45,\n",
       " 46,\n",
       " 49,\n",
       " 50,\n",
       " 51]"
      ]
     },
     "execution_count": 9,
     "metadata": {},
     "output_type": "execute_result"
    }
   ],
   "source": [
    "good"
   ]
  },
  {
   "cell_type": "code",
   "execution_count": null,
   "metadata": {},
   "outputs": [],
   "source": []
  }
 ],
 "metadata": {
  "kernelspec": {
   "display_name": "Python 3",
   "language": "python",
   "name": "python3"
  },
  "language_info": {
   "codemirror_mode": {
    "name": "ipython",
    "version": 3
   },
   "file_extension": ".py",
   "mimetype": "text/x-python",
   "name": "python",
   "nbconvert_exporter": "python",
   "pygments_lexer": "ipython3",
   "version": "3.6.5"
  }
 },
 "nbformat": 4,
 "nbformat_minor": 2
}
